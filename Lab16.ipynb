{
  "cells": [
    {
      "cell_type": "markdown",
      "metadata": {
        "id": "bXjwE7TGJJF5"
      },
      "source": [
        "## <a href=\"https://colab.research.google.com/github/LMU-CMSI-1010/lab-notebooks-original/blob/main/Lab16.ipynb\" target=\"_parent\"><img src=\"https://colab.research.google.com/assets/colab-badge.svg\" alt=\"Open In Colab\"/></a>"
      ]
    },
    {
      "cell_type": "markdown",
      "metadata": {
        "id": "9aXfrLXg9seM"
      },
      "source": [
        "# Lab 16 Making your own histogram class\n",
        "While `numpy` and `pandas` will certainly make histograms for you, let's try to make our own from real data to help review classes and dictionaries. We'll use `numpy` to help us plot them. We'll also gain a much greater appreciation for what these data science modules do for us. First, let's import the `datascience`, `numpy`, and `matplotlib` modules to use."
      ]
    },
    {
      "cell_type": "code",
      "execution_count": 1,
      "metadata": {
        "id": "ZzKTbg9yFE7M",
        "outputId": "d845acdf-3dfa-452b-b57e-6290e5992f75",
        "colab": {
          "base_uri": "https://localhost:8080/",
          "height": 436
        }
      },
      "outputs": [
        {
          "output_type": "error",
          "ename": "OSError",
          "evalue": "'seaborn-whitegrid' is not a valid package style, path of style file, URL of style file, or library style name (library styles are listed in `style.available`)",
          "traceback": [
            "\u001b[0;31m---------------------------------------------------------------------------\u001b[0m",
            "\u001b[0;31mFileNotFoundError\u001b[0m                         Traceback (most recent call last)",
            "\u001b[0;32m/usr/local/lib/python3.11/dist-packages/matplotlib/style/core.py\u001b[0m in \u001b[0;36muse\u001b[0;34m(style)\u001b[0m\n\u001b[1;32m    128\u001b[0m             \u001b[0;32mtry\u001b[0m\u001b[0;34m:\u001b[0m\u001b[0;34m\u001b[0m\u001b[0;34m\u001b[0m\u001b[0m\n\u001b[0;32m--> 129\u001b[0;31m                 \u001b[0mstyle\u001b[0m \u001b[0;34m=\u001b[0m \u001b[0m_rc_params_in_file\u001b[0m\u001b[0;34m(\u001b[0m\u001b[0mstyle\u001b[0m\u001b[0;34m)\u001b[0m\u001b[0;34m\u001b[0m\u001b[0;34m\u001b[0m\u001b[0m\n\u001b[0m\u001b[1;32m    130\u001b[0m             \u001b[0;32mexcept\u001b[0m \u001b[0mOSError\u001b[0m \u001b[0;32mas\u001b[0m \u001b[0merr\u001b[0m\u001b[0;34m:\u001b[0m\u001b[0;34m\u001b[0m\u001b[0;34m\u001b[0m\u001b[0m\n",
            "\u001b[0;32m/usr/local/lib/python3.11/dist-packages/matplotlib/__init__.py\u001b[0m in \u001b[0;36m_rc_params_in_file\u001b[0;34m(fname, transform, fail_on_error)\u001b[0m\n\u001b[1;32m    902\u001b[0m     \u001b[0mrc_temp\u001b[0m \u001b[0;34m=\u001b[0m \u001b[0;34m{\u001b[0m\u001b[0;34m}\u001b[0m\u001b[0;34m\u001b[0m\u001b[0;34m\u001b[0m\u001b[0m\n\u001b[0;32m--> 903\u001b[0;31m     \u001b[0;32mwith\u001b[0m \u001b[0m_open_file_or_url\u001b[0m\u001b[0;34m(\u001b[0m\u001b[0mfname\u001b[0m\u001b[0;34m)\u001b[0m \u001b[0;32mas\u001b[0m \u001b[0mfd\u001b[0m\u001b[0;34m:\u001b[0m\u001b[0;34m\u001b[0m\u001b[0;34m\u001b[0m\u001b[0m\n\u001b[0m\u001b[1;32m    904\u001b[0m         \u001b[0;32mtry\u001b[0m\u001b[0;34m:\u001b[0m\u001b[0;34m\u001b[0m\u001b[0;34m\u001b[0m\u001b[0m\n",
            "\u001b[0;32m/usr/lib/python3.11/contextlib.py\u001b[0m in \u001b[0;36m__enter__\u001b[0;34m(self)\u001b[0m\n\u001b[1;32m    136\u001b[0m         \u001b[0;32mtry\u001b[0m\u001b[0;34m:\u001b[0m\u001b[0;34m\u001b[0m\u001b[0;34m\u001b[0m\u001b[0m\n\u001b[0;32m--> 137\u001b[0;31m             \u001b[0;32mreturn\u001b[0m \u001b[0mnext\u001b[0m\u001b[0;34m(\u001b[0m\u001b[0mself\u001b[0m\u001b[0;34m.\u001b[0m\u001b[0mgen\u001b[0m\u001b[0;34m)\u001b[0m\u001b[0;34m\u001b[0m\u001b[0;34m\u001b[0m\u001b[0m\n\u001b[0m\u001b[1;32m    138\u001b[0m         \u001b[0;32mexcept\u001b[0m \u001b[0mStopIteration\u001b[0m\u001b[0;34m:\u001b[0m\u001b[0;34m\u001b[0m\u001b[0;34m\u001b[0m\u001b[0m\n",
            "\u001b[0;32m/usr/local/lib/python3.11/dist-packages/matplotlib/__init__.py\u001b[0m in \u001b[0;36m_open_file_or_url\u001b[0;34m(fname)\u001b[0m\n\u001b[1;32m    879\u001b[0m         \u001b[0mfname\u001b[0m \u001b[0;34m=\u001b[0m \u001b[0mos\u001b[0m\u001b[0;34m.\u001b[0m\u001b[0mpath\u001b[0m\u001b[0;34m.\u001b[0m\u001b[0mexpanduser\u001b[0m\u001b[0;34m(\u001b[0m\u001b[0mfname\u001b[0m\u001b[0;34m)\u001b[0m\u001b[0;34m\u001b[0m\u001b[0;34m\u001b[0m\u001b[0m\n\u001b[0;32m--> 880\u001b[0;31m         \u001b[0;32mwith\u001b[0m \u001b[0mopen\u001b[0m\u001b[0;34m(\u001b[0m\u001b[0mfname\u001b[0m\u001b[0;34m,\u001b[0m \u001b[0mencoding\u001b[0m\u001b[0;34m=\u001b[0m\u001b[0;34m'utf-8'\u001b[0m\u001b[0;34m)\u001b[0m \u001b[0;32mas\u001b[0m \u001b[0mf\u001b[0m\u001b[0;34m:\u001b[0m\u001b[0;34m\u001b[0m\u001b[0;34m\u001b[0m\u001b[0m\n\u001b[0m\u001b[1;32m    881\u001b[0m             \u001b[0;32myield\u001b[0m \u001b[0mf\u001b[0m\u001b[0;34m\u001b[0m\u001b[0;34m\u001b[0m\u001b[0m\n",
            "\u001b[0;31mFileNotFoundError\u001b[0m: [Errno 2] No such file or directory: 'seaborn-whitegrid'",
            "\nThe above exception was the direct cause of the following exception:\n",
            "\u001b[0;31mOSError\u001b[0m                                   Traceback (most recent call last)",
            "\u001b[0;32m<ipython-input-1-613b5badc5a0>\u001b[0m in \u001b[0;36m<cell line: 0>\u001b[0;34m()\u001b[0m\n\u001b[1;32m      4\u001b[0m \u001b[0mget_ipython\u001b[0m\u001b[0;34m(\u001b[0m\u001b[0;34m)\u001b[0m\u001b[0;34m.\u001b[0m\u001b[0mrun_line_magic\u001b[0m\u001b[0;34m(\u001b[0m\u001b[0;34m'matplotlib'\u001b[0m\u001b[0;34m,\u001b[0m \u001b[0;34m'inline'\u001b[0m\u001b[0;34m)\u001b[0m\u001b[0;34m\u001b[0m\u001b[0;34m\u001b[0m\u001b[0m\n\u001b[1;32m      5\u001b[0m \u001b[0;32mimport\u001b[0m \u001b[0mmatplotlib\u001b[0m\u001b[0;34m.\u001b[0m\u001b[0mpyplot\u001b[0m \u001b[0;32mas\u001b[0m \u001b[0mplt\u001b[0m\u001b[0;34m\u001b[0m\u001b[0;34m\u001b[0m\u001b[0m\n\u001b[0;32m----> 6\u001b[0;31m \u001b[0mplt\u001b[0m\u001b[0;34m.\u001b[0m\u001b[0mstyle\u001b[0m\u001b[0;34m.\u001b[0m\u001b[0muse\u001b[0m\u001b[0;34m(\u001b[0m\u001b[0;34m'seaborn-whitegrid'\u001b[0m\u001b[0;34m)\u001b[0m\u001b[0;34m\u001b[0m\u001b[0;34m\u001b[0m\u001b[0m\n\u001b[0m",
            "\u001b[0;32m/usr/local/lib/python3.11/dist-packages/matplotlib/style/core.py\u001b[0m in \u001b[0;36muse\u001b[0;34m(style)\u001b[0m\n\u001b[1;32m    129\u001b[0m                 \u001b[0mstyle\u001b[0m \u001b[0;34m=\u001b[0m \u001b[0m_rc_params_in_file\u001b[0m\u001b[0;34m(\u001b[0m\u001b[0mstyle\u001b[0m\u001b[0;34m)\u001b[0m\u001b[0;34m\u001b[0m\u001b[0;34m\u001b[0m\u001b[0m\n\u001b[1;32m    130\u001b[0m             \u001b[0;32mexcept\u001b[0m \u001b[0mOSError\u001b[0m \u001b[0;32mas\u001b[0m \u001b[0merr\u001b[0m\u001b[0;34m:\u001b[0m\u001b[0;34m\u001b[0m\u001b[0;34m\u001b[0m\u001b[0m\n\u001b[0;32m--> 131\u001b[0;31m                 raise OSError(\n\u001b[0m\u001b[1;32m    132\u001b[0m                     \u001b[0;34mf\"{style!r} is not a valid package style, path of style \"\u001b[0m\u001b[0;34m\u001b[0m\u001b[0;34m\u001b[0m\u001b[0m\n\u001b[1;32m    133\u001b[0m                     \u001b[0;34mf\"file, URL of style file, or library style name (library \"\u001b[0m\u001b[0;34m\u001b[0m\u001b[0;34m\u001b[0m\u001b[0m\n",
            "\u001b[0;31mOSError\u001b[0m: 'seaborn-whitegrid' is not a valid package style, path of style file, URL of style file, or library style name (library styles are listed in `style.available`)"
          ]
        }
      ],
      "source": [
        "from datascience import *\n",
        "import numpy as np\n",
        "\n",
        "%matplotlib inline\n",
        "import matplotlib.pyplot as plt\n",
        "plt.style.use('seaborn-whitegrid')"
      ]
    },
    {
      "cell_type": "markdown",
      "metadata": {
        "id": "DZuccFyQOyd1"
      },
      "source": [
        "## Reading in Farmers Markets Table\n",
        "\n",
        "The table `farmers_markets.csv` contains data on farmers' markets in the United States  (data collected [by the USDA](https://apps.ams.usda.gov/FarmersMarketsExport/ExcelExport.aspx)).  Each row represents one such market.\n",
        "\n",
        "**Run the next cell to load the `farmers_markets` table.**"
      ]
    },
    {
      "cell_type": "code",
      "execution_count": 2,
      "metadata": {
        "id": "gBjBA8gEO1F3",
        "outputId": "cc6da465-445c-468c-e324-546761e110e4",
        "colab": {
          "base_uri": "https://localhost:8080/",
          "height": 307
        }
      },
      "outputs": [
        {
          "output_type": "stream",
          "name": "stdout",
          "text": [
            "This table has  8546 rows. One for each farmer's market\n",
            "This table has  59 columns\n",
            "Here are the column labels: \n",
            "  ('FMID', 'MarketName', 'street', 'city', 'County', 'State', 'zip', 'x', 'y')\n"
          ]
        },
        {
          "output_type": "display_data",
          "data": {
            "text/plain": [
              "<IPython.core.display.HTML object>"
            ],
            "text/html": [
              "<table border=\"1\" class=\"dataframe\">\n",
              "    <thead>\n",
              "        <tr>\n",
              "            <th>FMID</th> <th>MarketName</th> <th>street</th> <th>city</th> <th>County</th> <th>State</th> <th>zip</th> <th>x</th> <th>y</th>\n",
              "        </tr>\n",
              "    </thead>\n",
              "    <tbody>\n",
              "        <tr>\n",
              "            <td>1012063</td> <td> Caledonia Farmers Market Association - Danville</td> <td>nan                   </td> <td>Danville </td> <td>Caledonia</td> <td>Vermont       </td> <td>05828</td> <td>-72.1403</td> <td>44.411 </td>\n",
              "        </tr>\n",
              "        <tr>\n",
              "            <td>1011871</td> <td> Stearns Homestead Farmers' Market              </td> <td>6975 Ridge Road       </td> <td>Parma    </td> <td>Cuyahoga </td> <td>Ohio          </td> <td>44130</td> <td>-81.7286</td> <td>41.3751</td>\n",
              "        </tr>\n",
              "        <tr>\n",
              "            <td>1011878</td> <td>100 Mile Market                                 </td> <td>507 Harrison St       </td> <td>Kalamazoo</td> <td>Kalamazoo</td> <td>Michigan      </td> <td>49007</td> <td>-85.5749</td> <td>42.296 </td>\n",
              "        </tr>\n",
              "        <tr>\n",
              "            <td>1009364</td> <td>106 S. Main Street Farmers Market               </td> <td>106 S. Main Street    </td> <td>Six Mile </td> <td>nan      </td> <td>South Carolina</td> <td>29682</td> <td>-82.8187</td> <td>34.8042</td>\n",
              "        </tr>\n",
              "        <tr>\n",
              "            <td>1010691</td> <td>10th Steet Community Farmers Market             </td> <td>10th Street and Poplar</td> <td>Lamar    </td> <td>Barton   </td> <td>Missouri      </td> <td>64759</td> <td>-94.2746</td> <td>37.4956</td>\n",
              "        </tr>\n",
              "    </tbody>\n",
              "</table>\n",
              "<p>... (8541 rows omitted)</p>"
            ]
          },
          "metadata": {}
        }
      ],
      "source": [
        "source = 'https://raw.githubusercontent.com/data-8/materials-fa19/master/materials/fa19/lab/lab02/farmers_markets.csv'\n",
        "farmers_markets = Table.read_table(source)\n",
        "\n",
        "# Let's show some information about the data we just loaded.\n",
        "print(\"This table has \", farmers_markets.num_rows, \"rows. One for each farmer's market\")\n",
        "print(\"This table has \", farmers_markets.num_columns, \"columns\")\n",
        "\n",
        "# We'll only use the first 9, so we'll select them\n",
        "farmers_markets = farmers_markets.select(range(9))\n",
        "print(\"Here are the column labels: \\n \", farmers_markets.labels)\n",
        "\n",
        "# The column label FMID stands for Farmer's Market ID\n",
        "# The column x stands for longitude\n",
        "# The column y stands for latitude\n",
        "# Remember you can view part of the table by using show(number of rows)\n",
        "farmers_markets.show(5)"
      ]
    },
    {
      "cell_type": "markdown",
      "metadata": {
        "id": "VHabjGhLQvam"
      },
      "source": [
        "To get all the farmer's markets in Los Angeles we can use `where`. First we will get the markets in California and then those in Los Angeles."
      ]
    },
    {
      "cell_type": "code",
      "execution_count": 3,
      "metadata": {
        "id": "-PrvOEaKQv27",
        "outputId": "755bdac4-070d-4942-f4b8-b9d78e63ac58",
        "colab": {
          "base_uri": "https://localhost:8080/",
          "height": 392
        }
      },
      "outputs": [
        {
          "output_type": "execute_result",
          "data": {
            "text/plain": [
              "FMID    | MarketName                                 | street                                    | city        | County      | State      | zip   | x        | y\n",
              "1001714 | Crenshaw Farmers' Market                   | 3650 Crenshaw Blvd.                       | Los Angeles | Los Angeles | California | 90008 | -118.335 | 34.0108\n",
              "1006034 | Eagle Rock Farmers Market                  | 2100 Merton Ave.                          | Los Angeles | Los Angeles | California | 90065 | -118.214 | 34.1391\n",
              "1010734 | East Hollywood Certified Farmers' Market   | 5448 Hollywood Boulevard                  | Los Angeles | Los Angeles | California | 90027 | -118.309 | 34.1015\n",
              "1002993 | East Los Angeles Farmers Market            | 4801 East 3rd Street                      | Los Angeles | Los Angeles | California | 90022 | -118.161 | 34.0335\n",
              "1000024 | El Segundo Farmers Market                  | Grand & Eucalyptus                        | Los Angeles | Los Angeles | California | 90045 | -118.405 | 33.9208\n",
              "1004328 | Gardena Saturday Farmers Market            | 13000 Van Ness                            | Los Angeles | Los Angeles | California | 90047 | -118.318 | 33.931\n",
              "1004329 | Gardena Wednesday Farmers Market           | 1670 West 162 at La Salle                 | Los Angeles | Los Angeles | California | 90047 | -118.306 | 33.8841\n",
              "1009018 | Green Believers Pop Up Market              | 3320 S. Central Avenue                    | Los Angeles | Los Angeles | California | nan   | -118.256 | 34.0131\n",
              "1011278 | Historic Downtown Certified Farmers Market | W 5th St. between Spring St. and Broadway | Los Angeles | Los Angeles | California | 90014 | -118.25  | 34.0477\n",
              "1000052 | Hollywood Farmers' Market                  | 1500 Ivar Ave. & Selma Ave                | Los Angeles | Los Angeles | California | 90028 | -118.328 | 34.0999\n",
              "... (18 rows omitted)"
            ],
            "text/html": [
              "<table border=\"1\" class=\"dataframe\">\n",
              "    <thead>\n",
              "        <tr>\n",
              "            <th>FMID</th> <th>MarketName</th> <th>street</th> <th>city</th> <th>County</th> <th>State</th> <th>zip</th> <th>x</th> <th>y</th>\n",
              "        </tr>\n",
              "    </thead>\n",
              "    <tbody>\n",
              "        <tr>\n",
              "            <td>1001714</td> <td>Crenshaw Farmers' Market                  </td> <td>3650 Crenshaw Blvd.                      </td> <td>Los Angeles</td> <td>Los Angeles</td> <td>California</td> <td>90008</td> <td>-118.335</td> <td>34.0108</td>\n",
              "        </tr>\n",
              "        <tr>\n",
              "            <td>1006034</td> <td>Eagle Rock Farmers Market                 </td> <td>2100 Merton Ave.                         </td> <td>Los Angeles</td> <td>Los Angeles</td> <td>California</td> <td>90065</td> <td>-118.214</td> <td>34.1391</td>\n",
              "        </tr>\n",
              "        <tr>\n",
              "            <td>1010734</td> <td>East Hollywood Certified Farmers' Market  </td> <td>5448 Hollywood Boulevard                 </td> <td>Los Angeles</td> <td>Los Angeles</td> <td>California</td> <td>90027</td> <td>-118.309</td> <td>34.1015</td>\n",
              "        </tr>\n",
              "        <tr>\n",
              "            <td>1002993</td> <td>East Los Angeles Farmers Market           </td> <td>4801 East 3rd Street                     </td> <td>Los Angeles</td> <td>Los Angeles</td> <td>California</td> <td>90022</td> <td>-118.161</td> <td>34.0335</td>\n",
              "        </tr>\n",
              "        <tr>\n",
              "            <td>1000024</td> <td>El Segundo Farmers Market                 </td> <td>Grand & Eucalyptus                       </td> <td>Los Angeles</td> <td>Los Angeles</td> <td>California</td> <td>90045</td> <td>-118.405</td> <td>33.9208</td>\n",
              "        </tr>\n",
              "        <tr>\n",
              "            <td>1004328</td> <td>Gardena Saturday Farmers Market           </td> <td>13000 Van Ness                           </td> <td>Los Angeles</td> <td>Los Angeles</td> <td>California</td> <td>90047</td> <td>-118.318</td> <td>33.931 </td>\n",
              "        </tr>\n",
              "        <tr>\n",
              "            <td>1004329</td> <td>Gardena Wednesday Farmers Market          </td> <td>1670 West 162 at La Salle                </td> <td>Los Angeles</td> <td>Los Angeles</td> <td>California</td> <td>90047</td> <td>-118.306</td> <td>33.8841</td>\n",
              "        </tr>\n",
              "        <tr>\n",
              "            <td>1009018</td> <td>Green Believers Pop Up Market             </td> <td>3320 S. Central Avenue                   </td> <td>Los Angeles</td> <td>Los Angeles</td> <td>California</td> <td>nan  </td> <td>-118.256</td> <td>34.0131</td>\n",
              "        </tr>\n",
              "        <tr>\n",
              "            <td>1011278</td> <td>Historic Downtown Certified Farmers Market</td> <td>W 5th St. between Spring St. and Broadway</td> <td>Los Angeles</td> <td>Los Angeles</td> <td>California</td> <td>90014</td> <td>-118.25 </td> <td>34.0477</td>\n",
              "        </tr>\n",
              "        <tr>\n",
              "            <td>1000052</td> <td>Hollywood Farmers' Market                 </td> <td>1500 Ivar Ave. & Selma Ave               </td> <td>Los Angeles</td> <td>Los Angeles</td> <td>California</td> <td>90028</td> <td>-118.328</td> <td>34.0999</td>\n",
              "        </tr>\n",
              "    </tbody>\n",
              "</table>\n",
              "<p>... (18 rows omitted)</p>"
            ]
          },
          "metadata": {},
          "execution_count": 3
        }
      ],
      "source": [
        "california_farmers_markets = farmers_markets.where('State', are.equal_to('California'))\n",
        "la_markets = california_farmers_markets.where('city', are.equal_to('Los Angeles'))\n",
        "la_markets"
      ]
    },
    {
      "cell_type": "markdown",
      "metadata": {
        "id": "Lu_o0_cQYlJd"
      },
      "source": [
        "## Where are all the Markets?\n",
        "So far, so good, we know where markets are in Los Angeles, but how can we figure out where the most farmers' markets are in the US. It's probably California and possibly even Los Angeles, but how can we use this data to show this?\n",
        "\n",
        "Let's draw a histogram of all the longitudes (x column) followed by a histogram for the latitudes (y column)."
      ]
    },
    {
      "cell_type": "code",
      "execution_count": 4,
      "metadata": {
        "id": "ESWdt4PyKOFw",
        "outputId": "7205deef-e103-4853-e752-cbaafd653243",
        "colab": {
          "base_uri": "https://localhost:8080/",
          "height": 771
        }
      },
      "outputs": [
        {
          "output_type": "display_data",
          "data": {
            "text/plain": [
              "<Figure size 600x400 with 1 Axes>"
            ],
            "image/png": "[encoded data removed]"
          },
          "metadata": {}
        },
        {
          "output_type": "display_data",
          "data": {
            "text/plain": [
              "<Figure size 600x400 with 1 Axes>"
            ],
            "image/png": "[encoded data removed]"
          },
          "metadata": {}
        }
      ],
      "source": [
        "farmers_markets.select('x').hist()\n",
        "farmers_markets.select('y').hist()"
      ]
    },
    {
      "cell_type": "markdown",
      "metadata": {
        "id": "IvR17k9AbCr7"
      },
      "source": [
        "This gives us some indication of the physical locations of the markets, but what if we want to know about states? That is not a numeric value in that column, so we get an error in the following cell."
      ]
    },
    {
      "cell_type": "code",
      "execution_count": 5,
      "metadata": {
        "id": "ZLJcIK-Pprbd",
        "outputId": "1b1819fd-098d-40cc-c73c-2d7f78bd819e",
        "colab": {
          "base_uri": "https://localhost:8080/",
          "height": 305
        }
      },
      "outputs": [
        {
          "output_type": "error",
          "ename": "ValueError",
          "evalue": "The column 'State' contains non-numerical values. A histogram cannot be drawn for this table.",
          "traceback": [
            "\u001b[0;31m---------------------------------------------------------------------------\u001b[0m",
            "\u001b[0;31mValueError\u001b[0m                                Traceback (most recent call last)",
            "\u001b[0;32m<ipython-input-5-7bc5d6bce8c3>\u001b[0m in \u001b[0;36m<cell line: 0>\u001b[0;34m()\u001b[0m\n\u001b[1;32m      1\u001b[0m \u001b[0;31m# THIS CELL WILL GIVE AN ERROR WHEN YOU RUN IT\u001b[0m\u001b[0;34m\u001b[0m\u001b[0;34m\u001b[0m\u001b[0m\n\u001b[0;32m----> 2\u001b[0;31m \u001b[0mfarmers_markets\u001b[0m\u001b[0;34m.\u001b[0m\u001b[0mselect\u001b[0m\u001b[0;34m(\u001b[0m\u001b[0;34m'State'\u001b[0m\u001b[0;34m)\u001b[0m\u001b[0;34m.\u001b[0m\u001b[0mhist\u001b[0m\u001b[0;34m(\u001b[0m\u001b[0;34m)\u001b[0m\u001b[0;34m\u001b[0m\u001b[0;34m\u001b[0m\u001b[0m\n\u001b[0m",
            "\u001b[0;32m/usr/local/lib/python3.11/dist-packages/datascience/tables.py\u001b[0m in \u001b[0;36mhist\u001b[0;34m(self, overlay, bins, bin_column, unit, counts, group, rug, side_by_side, left_end, right_end, width, height, *columns, **vargs)\u001b[0m\n\u001b[1;32m   5403\u001b[0m         \u001b[0;32mfor\u001b[0m \u001b[0mcol\u001b[0m \u001b[0;32min\u001b[0m \u001b[0mself\u001b[0m\u001b[0;34m:\u001b[0m\u001b[0;34m\u001b[0m\u001b[0;34m\u001b[0m\u001b[0m\n\u001b[1;32m   5404\u001b[0m             \u001b[0;32mif\u001b[0m \u001b[0mcol\u001b[0m \u001b[0;34m!=\u001b[0m \u001b[0mgroup\u001b[0m \u001b[0;32mand\u001b[0m \u001b[0many\u001b[0m\u001b[0;34m(\u001b[0m\u001b[0misinstance\u001b[0m\u001b[0;34m(\u001b[0m\u001b[0mcell\u001b[0m\u001b[0;34m,\u001b[0m \u001b[0mnp\u001b[0m\u001b[0;34m.\u001b[0m\u001b[0mflexible\u001b[0m\u001b[0;34m)\u001b[0m \u001b[0;32mfor\u001b[0m \u001b[0mcell\u001b[0m \u001b[0;32min\u001b[0m \u001b[0mself\u001b[0m\u001b[0;34m[\u001b[0m\u001b[0mcol\u001b[0m\u001b[0;34m]\u001b[0m\u001b[0;34m)\u001b[0m\u001b[0;34m:\u001b[0m\u001b[0;34m\u001b[0m\u001b[0;34m\u001b[0m\u001b[0m\n\u001b[0;32m-> 5405\u001b[0;31m                 raise ValueError(\"The column '{0}' contains non-numerical \"\n\u001b[0m\u001b[1;32m   5406\u001b[0m                     \u001b[0;34m\"values. A histogram cannot be drawn for this table.\"\u001b[0m\u001b[0;34m\u001b[0m\u001b[0;34m\u001b[0m\u001b[0m\n\u001b[1;32m   5407\u001b[0m                     .format(col))\n",
            "\u001b[0;31mValueError\u001b[0m: The column 'State' contains non-numerical values. A histogram cannot be drawn for this table."
          ]
        }
      ],
      "source": [
        "# THIS CELL WILL GIVE AN ERROR WHEN YOU RUN IT\n",
        "farmers_markets.select('State').hist()"
      ]
    },
    {
      "cell_type": "markdown",
      "metadata": {
        "id": "AmfbeX6Tb95T"
      },
      "source": [
        "# Creating Your Histogram Class\n",
        "At the end of this lab, we'll show you how to do this very quickly using aggregates in the datascience module, but we want to **give you practice writing your own histogram class.**"
      ]
    },
    {
      "cell_type": "code",
      "execution_count": 8,
      "metadata": {
        "id": "GHMNEKSWctdu"
      },
      "outputs": [],
      "source": [
        "class Histogram():\n",
        "    def __init__(self):\n",
        "        self.dictionary = {}\n",
        "        self.labels = []\n",
        "        self.frequency = []\n",
        "\n",
        "    # TODO: Given a list of non_numeric values\n",
        "    # update the histogram's dictionary where the keys are all the unique values\n",
        "    # in the non_numeric values and the corresponding values is\n",
        "    # the number of times it appears\n",
        "    #\n",
        "    # Remember that, whenever you see a new key (i.e., one that isn't in the\n",
        "    # dictionary yet), its initial value is 1 because seeing it for the first\n",
        "    # time means it appears at least once in the list\n",
        "    #\n",
        "    # For example, given the list [\"California\", \"Michigan\", \"Maine\", \"California\"]\n",
        "    # The dictionary will have a key for each state. Michigan and Maine would\n",
        "    # have value 1 and California would have value 2.\n",
        "    def update_dictionary(self, non_numeric):\n",
        "        for item in non_numeric:\n",
        "            if item in self.dictionary:\n",
        "                self.dictionary[item] += 1\n",
        "            else:\n",
        "                self.dictionary[item] = 1\n",
        "\n",
        "    # TODO: Set the histogram's self.labels to its dictionary's keys\n",
        "    def update_labels(self):\n",
        "        self.labels = list(self.dictionary.keys())\n",
        "\n",
        "    # TODO: Set the histogram's self.frequency to its dictionary's values\n",
        "    def update_frequency(self):\n",
        "        self.frequency = list(self.dictionary.values())\n",
        "\n",
        "    # This method can be used to plot the histogram\n",
        "    # You do not need to change it\n",
        "    def draw(self):\n",
        "        _ = plt.hist(self.frequency, bins='auto')\n",
        "        plt.xlabel('count (i.e., number of farmers markets in the state)')\n",
        "        plt.ylabel('Number of states with this many markets')\n",
        "        plt.show()\n",
        "\n",
        "    # TODO: Return the key from the dictionary that has the greatest value\n",
        "    def get_mostfrequent(self):\n",
        "        if not self.dictionary:\n",
        "            return None\n",
        "        return max(self.dictionary, self.dictionary.get)"
      ]
    },
    {
      "cell_type": "markdown",
      "metadata": {
        "id": "lYLWBSSLgG5B"
      },
      "source": [
        "# Creating Histogram of Market States\n",
        "Now you will **create your own histogram of farmers markets in each state.** First instantiate a histogram object. Then consider what data you need to pass from the farmers' markets table to update the dictionary."
      ]
    },
    {
      "cell_type": "code",
      "execution_count": 9,
      "metadata": {
        "id": "C4UUopzjgjpZ",
        "outputId": "d04b2ebd-e676-4279-a366-d5a27b4f070e",
        "colab": {
          "base_uri": "https://localhost:8080/",
          "height": 737
        }
      },
      "outputs": [
        {
          "output_type": "display_data",
          "data": {
            "text/plain": [
              "<Figure size 640x480 with 1 Axes>"
            ],
            "image/png": "[encoded data removed]"
          },
          "metadata": {}
        },
        {
          "output_type": "error",
          "ename": "TypeError",
          "evalue": "'>' not supported between instances of 'builtin_function_or_method' and 'dict'",
          "traceback": [
            "\u001b[0;31m---------------------------------------------------------------------------\u001b[0m",
            "\u001b[0;31mTypeError\u001b[0m                                 Traceback (most recent call last)",
            "\u001b[0;32m<ipython-input-9-b6da59183fef>\u001b[0m in \u001b[0;36m<cell line: 0>\u001b[0;34m()\u001b[0m\n\u001b[1;32m     18\u001b[0m \u001b[0;31m# 6. TODO: Print out the state with the most farmers' markets using\u001b[0m\u001b[0;34m\u001b[0m\u001b[0;34m\u001b[0m\u001b[0m\n\u001b[1;32m     19\u001b[0m \u001b[0;31m#    the get_mostfrequent method of your Histogram object\u001b[0m\u001b[0;34m\u001b[0m\u001b[0;34m\u001b[0m\u001b[0m\n\u001b[0;32m---> 20\u001b[0;31m \u001b[0mprint\u001b[0m\u001b[0;34m(\u001b[0m\u001b[0;34m\"State with the most farmers' markets:\"\u001b[0m\u001b[0;34m,\u001b[0m \u001b[0mhist\u001b[0m\u001b[0;34m.\u001b[0m\u001b[0mget_mostfrequent\u001b[0m\u001b[0;34m(\u001b[0m\u001b[0;34m)\u001b[0m\u001b[0;34m)\u001b[0m\u001b[0;34m\u001b[0m\u001b[0;34m\u001b[0m\u001b[0m\n\u001b[0m\u001b[1;32m     21\u001b[0m \u001b[0;34m\u001b[0m\u001b[0m\n\u001b[1;32m     22\u001b[0m \u001b[0;32massert\u001b[0m\u001b[0;34m(\u001b[0m\u001b[0mhist\u001b[0m\u001b[0;34m.\u001b[0m\u001b[0mget_mostfrequent\u001b[0m\u001b[0;34m(\u001b[0m\u001b[0;34m)\u001b[0m \u001b[0;34m==\u001b[0m \u001b[0;34m'California'\u001b[0m\u001b[0;34m)\u001b[0m\u001b[0;34m\u001b[0m\u001b[0;34m\u001b[0m\u001b[0m\n",
            "\u001b[0;32m<ipython-input-8-fa699f2dcd6d>\u001b[0m in \u001b[0;36mget_mostfrequent\u001b[0;34m(self)\u001b[0m\n\u001b[1;32m     44\u001b[0m         \u001b[0;32mif\u001b[0m \u001b[0;32mnot\u001b[0m \u001b[0mself\u001b[0m\u001b[0;34m.\u001b[0m\u001b[0mdictionary\u001b[0m\u001b[0;34m:\u001b[0m\u001b[0;34m\u001b[0m\u001b[0;34m\u001b[0m\u001b[0m\n\u001b[1;32m     45\u001b[0m             \u001b[0;32mreturn\u001b[0m \u001b[0;32mNone\u001b[0m\u001b[0;34m\u001b[0m\u001b[0;34m\u001b[0m\u001b[0m\n\u001b[0;32m---> 46\u001b[0;31m         \u001b[0;32mreturn\u001b[0m \u001b[0mmax\u001b[0m\u001b[0;34m(\u001b[0m\u001b[0mself\u001b[0m\u001b[0;34m.\u001b[0m\u001b[0mdictionary\u001b[0m\u001b[0;34m,\u001b[0m \u001b[0mself\u001b[0m\u001b[0;34m.\u001b[0m\u001b[0mdictionary\u001b[0m\u001b[0;34m.\u001b[0m\u001b[0mget\u001b[0m\u001b[0;34m)\u001b[0m\u001b[0;34m\u001b[0m\u001b[0;34m\u001b[0m\u001b[0m\n\u001b[0m",
            "\u001b[0;31mTypeError\u001b[0m: '>' not supported between instances of 'builtin_function_or_method' and 'dict'"
          ]
        }
      ],
      "source": [
        "# Test your code!\n",
        "# 1. TODO: Instantiate a Histogram object\n",
        "hist = Histogram()\n",
        "\n",
        "# 2. Update its dictionary by passing the State column from the\n",
        "#    farmer's market table i.e. farmers_markets.column('State')\n",
        "hist.update_dictionary(farmers_markets.column('State'))\n",
        "\n",
        "# 3. TODO: Update the frequency of your Histogram object\n",
        "hist.update_frequency()\n",
        "\n",
        "# 4. TODO: Update the labels of your Histogram object\n",
        "hist.update_labels()\n",
        "\n",
        "# 5. TODO: Draw your Histogram object\n",
        "hist.draw()\n",
        "\n",
        "# 6. TODO: Print out the state with the most farmers' markets using\n",
        "#    the get_mostfrequent method of your Histogram object\n",
        "print(\"State with the most farmers' markets:\", hist.get_mostfrequent())\n",
        "\n",
        "assert(hist.get_mostfrequent() == 'California')\n",
        "assert(len(hist.dictionary) == len(hist.labels) == len(hist.frequency) == 53)"
      ]
    },
    {
      "cell_type": "markdown",
      "metadata": {
        "id": "2NrrZKPGoWT7"
      },
      "source": [
        "## The Beauty of the Data Science Modules\n",
        "Everything we just did is just a line or two of Python using aggregation using `group`. Please run this cell to see the exact same result."
      ]
    },
    {
      "cell_type": "code",
      "execution_count": 10,
      "metadata": {
        "id": "rzWE8e-Am4A1",
        "outputId": "66520848-9dff-459b-f5eb-fb422a377480",
        "colab": {
          "base_uri": "https://localhost:8080/",
          "height": 769
        }
      },
      "outputs": [
        {
          "output_type": "execute_result",
          "data": {
            "text/plain": [
              "State         | count\n",
              "California    | 755\n",
              "New York      | 672\n",
              "Michigan      | 340\n",
              "Ohio          | 326\n",
              "Illinois      | 323\n",
              "Massachusetts | 316\n",
              "Wisconsin     | 307\n",
              "Pennsylvania  | 294\n",
              "Missouri      | 258\n",
              "Virginia      | 253\n",
              "... (43 rows omitted)"
            ],
            "text/html": [
              "<table border=\"1\" class=\"dataframe\">\n",
              "    <thead>\n",
              "        <tr>\n",
              "            <th>State</th> <th>count</th>\n",
              "        </tr>\n",
              "    </thead>\n",
              "    <tbody>\n",
              "        <tr>\n",
              "            <td>California   </td> <td>755  </td>\n",
              "        </tr>\n",
              "        <tr>\n",
              "            <td>New York     </td> <td>672  </td>\n",
              "        </tr>\n",
              "        <tr>\n",
              "            <td>Michigan     </td> <td>340  </td>\n",
              "        </tr>\n",
              "        <tr>\n",
              "            <td>Ohio         </td> <td>326  </td>\n",
              "        </tr>\n",
              "        <tr>\n",
              "            <td>Illinois     </td> <td>323  </td>\n",
              "        </tr>\n",
              "        <tr>\n",
              "            <td>Massachusetts</td> <td>316  </td>\n",
              "        </tr>\n",
              "        <tr>\n",
              "            <td>Wisconsin    </td> <td>307  </td>\n",
              "        </tr>\n",
              "        <tr>\n",
              "            <td>Pennsylvania </td> <td>294  </td>\n",
              "        </tr>\n",
              "        <tr>\n",
              "            <td>Missouri     </td> <td>258  </td>\n",
              "        </tr>\n",
              "        <tr>\n",
              "            <td>Virginia     </td> <td>253  </td>\n",
              "        </tr>\n",
              "    </tbody>\n",
              "</table>\n",
              "<p>... (43 rows omitted)</p>"
            ]
          },
          "metadata": {},
          "execution_count": 10
        },
        {
          "output_type": "display_data",
          "data": {
            "text/plain": [
              "<Figure size 600x400 with 1 Axes>"
            ],
            "image/png": "[encoded data removed]"
          },
          "metadata": {}
        }
      ],
      "source": [
        "# Group the farmers market table by state and create a histogram of the counts\n",
        "# per state\n",
        "farmers_markets.group('State').select('count').hist()\n",
        "\n",
        "# Show the farmers market table by state with counts in descending order\n",
        "# of counts\n",
        "farmers_markets.group('State').sort('count', descending=True)"
      ]
    },
    {
      "cell_type": "markdown",
      "metadata": {
        "id": "mhwSWiKYpXsC"
      },
      "source": [
        "### (Optional) Reflections\n",
        "Add a text cell below to answer the following questions:\n",
        "1. What do you feel more confident about after completing this lab?\n",
        "2. What do you feel you can use more help with after completing this lab?\n",
        "3. Do you have any constructive suggestions on how we can help you or improve this lab?"
      ]
    },
    {
      "cell_type": "markdown",
      "metadata": {
        "id": "1WwZLZdvpZB8"
      },
      "source": [
        "### Save your work to GitHub\n",
        "Please save this notebook to your lab repository."
      ]
    }
  ],
  "metadata": {
    "kernelspec": {
      "display_name": "Python 3",
      "language": "python",
      "name": "python3"
    },
    "language_info": {
      "codemirror_mode": {
        "name": "ipython",
        "version": 3
      },
      "file_extension": ".py",
      "mimetype": "text/x-python",
      "name": "python",
      "nbconvert_exporter": "python",
      "pygments_lexer": "ipython3",
      "version": "3.8.5"
    },
    "colab": {
      "provenance": []
    }
  },
  "nbformat": 4,
  "nbformat_minor": 0
}