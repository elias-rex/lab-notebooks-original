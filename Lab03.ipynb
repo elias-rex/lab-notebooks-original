{
  "cells": [
    {
      "cell_type": "markdown",
      "metadata": {
        "id": "Lt92sp27GiVj"
      },
      "source": [
        "<a href=\"https://colab.research.google.com/github/LMU-CMSI-1010/lab-notebooks-original/blob/main/Lab03.ipynb\" target=\"_parent\"><img src=\"https://colab.research.google.com/assets/colab-badge.svg\" alt=\"Open In Colab\"/></a>"
      ]
    },
    {
      "cell_type": "markdown",
      "metadata": {
        "id": "9aXfrLXg9seM"
      },
      "source": [
        "# Lab 03 Heat-Check\n",
        "In this lab you will practice writing functions that print results to the user and that return values.\n",
        "\n",
        "## From Celsius to Fahrenheit\n",
        "\n",
        "In class we presented a function that, given a temperature in Celsius, will print the temperature in Fahrenheit. We include it below as an example that you will use for the next function.\n",
        "\n"
      ]
    },
    {
      "cell_type": "code",
      "execution_count": 2,
      "metadata": {
        "id": "Rt0kFDWS9RJU",
        "outputId": "ac4b85e5-b253-4387-ab0c-4286056b5868",
        "colab": {
          "base_uri": "https://localhost:8080/"
        }
      },
      "outputs": [
        {
          "output_type": "stream",
          "name": "stdout",
          "text": [
            "0.0 C == 32.0 F\n"
          ]
        }
      ],
      "source": [
        "def print_as_fahrenheit(c):\n",
        "    f = ((9.0 / 5.0) * c) + 32.0\n",
        "    print(c, 'C ==', f, 'F')\n",
        "\n",
        "\n",
        "print_as_fahrenheit(0.0)"
      ]
    },
    {
      "cell_type": "markdown",
      "metadata": {
        "id": "y2c-tRWA91fr"
      },
      "source": [
        "## From Fahrenheit to Celsius\n",
        "\n",
        "Using the function `print_as_fahrenheit` for how to make the conversion between Fahrenheit and Celsius, **write a function `print_as_celsius(f)`**. This function should take as input a temperature in Fahrenheit and print the temperature in Celsius. We have given an example of how it should be printed for the example above."
      ]
    },
    {
      "cell_type": "code",
      "execution_count": 3,
      "metadata": {
        "id": "NMcvm3E4-sl_",
        "outputId": "b175f91f-b341-431d-84f7-086b511a9304",
        "colab": {
          "base_uri": "https://localhost:8080/"
        }
      },
      "outputs": [
        {
          "output_type": "stream",
          "name": "stdout",
          "text": [
            "32.0 F == 0.0 C\n"
          ]
        }
      ],
      "source": [
        "def print_as_celsius(fahrenheit):\n",
        "    celsius = (fahrenheit - 32) * 5 / 9\n",
        "    print(f'{fahrenheit} F == {celsius:.1f} C')\n",
        "\n",
        "\n",
        "print_as_celsius(32.0)"
      ]
    },
    {
      "cell_type": "markdown",
      "metadata": {
        "id": "zXC7orYI_T3E"
      },
      "source": [
        "## Testing your code\n",
        "The following code will use the function provided to print the Celsius temperature in Fahrenheit and the function you have written to print the temperature in Fahrenheit in Celsius. **Test your code using the code below and add at least two more function calls to test your code.**"
      ]
    },
    {
      "cell_type": "code",
      "execution_count": 17,
      "metadata": {
        "id": "fpq9XjRC_TJG",
        "outputId": "3a37bc01-8b4d-4e2a-d348-cc97031da7e4",
        "colab": {
          "base_uri": "https://localhost:8080/"
        }
      },
      "outputs": [
        {
          "output_type": "stream",
          "name": "stdout",
          "text": [
            "37 C == 98.60000000000001 F\n",
            "98.6 F == 37.0 C\n",
            "100 C == 212.0 F\n",
            "0 F == -17.8 C\n"
          ]
        }
      ],
      "source": [
        "# This code will only work once you write your function above.\n",
        "# Check that the results are consistent.\n",
        "print_as_fahrenheit(37)\n",
        "print_as_celsius(98.6)\n",
        "\n",
        "# TODO: Can you add two more calls to your function to make sure that it\n",
        "print_as_fahrenheit(100)\n",
        "print_as_celsius(0)\n",
        "# works properly?"
      ]
    },
    {
      "cell_type": "markdown",
      "metadata": {
        "id": "FBvQb4tOArmq"
      },
      "source": [
        "## Converting from miles to meters\n",
        "In the following cell, **write a function called `miles_to_meters` that, given a number of miles, *returns* the number of meters**. Remember that one mile is 1.60934 kilometers and 1 kilometer is 1000 meters, so there are 1,609.34 meters in one mile."
      ]
    },
    {
      "cell_type": "code",
      "execution_count": 5,
      "metadata": {
        "id": "gLFgAtynBorm"
      },
      "outputs": [],
      "source": [
        "def miles_to_meters(miles):\n",
        "    return miles * 1609.34\n"
      ]
    },
    {
      "cell_type": "markdown",
      "metadata": {
        "id": "ILJ5Cy29CC68"
      },
      "source": [
        "## Testing the mile conversion\n",
        "In the following code we test your function. **You can modify this code or add more code to it to test your function.**"
      ]
    },
    {
      "cell_type": "code",
      "execution_count": 14,
      "metadata": {
        "id": "jvIpU4DECTli",
        "outputId": "fbfd81ac-7ff9-4093-a808-aa3b95f64875",
        "colab": {
          "base_uri": "https://localhost:8080/"
        }
      },
      "outputs": [
        {
          "output_type": "stream",
          "name": "stdout",
          "text": [
            "5 miles == 8046.7 meters\n"
          ]
        }
      ],
      "source": [
        "# TODO: Code in this cell will not work until you have written miles_to_meters\n",
        "mile_test = 5\n",
        "meter_test = miles_to_meters(mile_test)\n",
        "print(mile_test , 'miles ==', meter_test, 'meters')\n",
        "\n",
        "\n",
        "# We use this code to test your function. Do not modify these.\n",
        "assert(int(meter_test) == 8046)\n",
        "assert(int(miles_to_meters(1)) == 1609)"
      ]
    },
    {
      "cell_type": "markdown",
      "metadata": {
        "id": "tUJEMX4ZC_ka"
      },
      "source": [
        "## Calculating the total bill\n",
        "In the following cell **write a function, `calculate_total`, that receives as parameters a `price` (represented by a float) and a `percent` (represented as an integer) and returns the total price, including a percent increase as given by the `percent` parameter.**"
      ]
    },
    {
      "cell_type": "code",
      "execution_count": 7,
      "metadata": {
        "id": "OvRHXmU5EcOw",
        "outputId": "bb372229-4b61-4013-a34c-c9e0dd17b80e",
        "colab": {
          "base_uri": "https://localhost:8080/"
        }
      },
      "outputs": [
        {
          "output_type": "stream",
          "name": "stdout",
          "text": [
            "120.0\n"
          ]
        }
      ],
      "source": [
        "def calculate_total(price, percent):\n",
        "    return price * (1 + percent / 100)\n",
        "\n",
        "total_price = calculate_total(100.0, 20)\n",
        "print(total_price)"
      ]
    },
    {
      "cell_type": "markdown",
      "metadata": {
        "id": "uP31YvtMDvtM"
      },
      "source": [
        "## Testing the calculate function\n",
        "**Complete the following testing code as specified in the comments.**"
      ]
    },
    {
      "cell_type": "code",
      "execution_count": 16,
      "metadata": {
        "id": "zn6Si5SZP-lg",
        "outputId": "e45e6f8e-2276-4102-e65b-5f27e15253e5",
        "colab": {
          "base_uri": "https://localhost:8080/",
          "height": 216
        }
      },
      "outputs": [
        {
          "output_type": "stream",
          "name": "stdout",
          "text": [
            "91.71249999999999\n"
          ]
        },
        {
          "output_type": "error",
          "ename": "AssertionError",
          "evalue": "",
          "traceback": [
            "\u001b[0;31m---------------------------------------------------------------------------\u001b[0m",
            "\u001b[0;31mAssertionError\u001b[0m                            Traceback (most recent call last)",
            "\u001b[0;32m<ipython-input-16-aef3c046b7b9>\u001b[0m in \u001b[0;36m<cell line: 0>\u001b[0;34m()\u001b[0m\n\u001b[1;32m     14\u001b[0m \u001b[0mprint\u001b[0m\u001b[0;34m(\u001b[0m\u001b[0mtest_result\u001b[0m\u001b[0;34m)\u001b[0m\u001b[0;34m\u001b[0m\u001b[0;34m\u001b[0m\u001b[0m\n\u001b[1;32m     15\u001b[0m \u001b[0;34m\u001b[0m\u001b[0m\n\u001b[0;32m---> 16\u001b[0;31m \u001b[0;32massert\u001b[0m\u001b[0;34m(\u001b[0m\u001b[0mtest_result\u001b[0m \u001b[0;34m==\u001b[0m \u001b[0;36m91.7125\u001b[0m\u001b[0;34m)\u001b[0m\u001b[0;34m\u001b[0m\u001b[0;34m\u001b[0m\u001b[0m\n\u001b[0m\u001b[1;32m     17\u001b[0m \u001b[0;32massert\u001b[0m\u001b[0;34m(\u001b[0m\u001b[0mcalculate_total\u001b[0m\u001b[0;34m(\u001b[0m\u001b[0;36m30\u001b[0m\u001b[0;34m,\u001b[0m \u001b[0;36m20\u001b[0m\u001b[0;34m)\u001b[0m \u001b[0;34m==\u001b[0m \u001b[0;36m36.0\u001b[0m\u001b[0;34m)\u001b[0m\u001b[0;34m\u001b[0m\u001b[0;34m\u001b[0m\u001b[0m\n",
            "\u001b[0;31mAssertionError\u001b[0m: "
          ]
        }
      ],
      "source": [
        "test_price = 79.75\n",
        "test_percent = 15\n",
        "\n",
        "# - TODO: Call your function on the test price and test percent and save the result\n",
        "#   to a new variable called test_result\n",
        "#\n",
        "# - TODO: Print the new total\n",
        "\n",
        "\n",
        "\n",
        "test_result = calculate_total(test_price, test_percent)\n",
        "\n",
        "\n",
        "print(test_result)\n",
        "\n",
        "assert(test_result == 91.7125)\n",
        "assert(calculate_total(30, 20) == 36.0)\n"
      ]
    },
    {
      "cell_type": "markdown",
      "metadata": {
        "id": "dKL0LYd-E4JB"
      },
      "source": [
        "### (Optional) Reflections\n",
        "Add a text cell below to answer the following questions:\n",
        "1. What do you feel more confident about after completing this lab?\n",
        "2. What do you feel you can use more help with after completing this lab?\n",
        "3. Do you have any constructive suggestions on how we can help you or improve this lab?"
      ]
    },
    {
      "cell_type": "markdown",
      "metadata": {
        "id": "gB1aHDpyFYey"
      },
      "source": [
        "### Save your work to GitHub\n",
        "Please save this notebook to your **lab repository** _LMU-CMSI-1010/lab-notebooks-YOURID_"
      ]
    }
  ],
  "metadata": {
    "kernelspec": {
      "display_name": "Python 3",
      "language": "python",
      "name": "python3"
    },
    "language_info": {
      "codemirror_mode": {
        "name": "ipython",
        "version": 3
      },
      "file_extension": ".py",
      "mimetype": "text/x-python",
      "name": "python",
      "nbconvert_exporter": "python",
      "pygments_lexer": "ipython3",
      "version": "3.8.5"
    },
    "colab": {
      "provenance": []
    }
  },
  "nbformat": 4,
  "nbformat_minor": 0
}